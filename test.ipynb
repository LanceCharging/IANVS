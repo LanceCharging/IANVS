{
 "cells": [
  {
   "cell_type": "code",
   "execution_count": 1,
   "metadata": {},
   "outputs": [],
   "source": [
    "import tkinter as tk\n",
    "from PIL import Image, ImageTk, ImageGrab\n",
    "import win32gui\n",
    "import win32con\n",
    "import os\n",
    "\n",
    "# 화면 캡처 수행\n",
    "screenshot = ImageGrab.grab()\n",
    "screenshot_path = os.path.join(os.getcwd(), \"screenshot2.png\")\n",
    "screenshot.save(screenshot_path)\n",
    "\n",
    "\n"
   ]
  },
  {
   "cell_type": "code",
   "execution_count": 2,
   "metadata": {},
   "outputs": [],
   "source": [
    "# Tkinter 윈도우 생성\n",
    "root = tk.Tk()\n",
    "root.attributes(\"-fullscreen\", True)  # 전체 화면 모드\n",
    "root.attributes(\"-topmost\", True)  # 항상 맨 위에\n",
    "\n",
    "# 캡처한 이미지 로드 및 라벨에 설정\n",
    "image = Image.open(screenshot_path)\n",
    "photo = ImageTk.PhotoImage(image)\n",
    "\n",
    "# Tkinter Label에 이미지 설정\n",
    "label = tk.Label(root, image=photo)\n",
    "label.image = photo  # 참조 유지\n",
    "label.pack()\n",
    "\n",
    "root.mainloop()\n"
   ]
  },
  {
   "cell_type": "code",
   "execution_count": null,
   "metadata": {},
   "outputs": [],
   "source": []
  },
  {
   "cell_type": "code",
   "execution_count": null,
   "metadata": {},
   "outputs": [],
   "source": []
  },
  {
   "cell_type": "code",
   "execution_count": null,
   "metadata": {},
   "outputs": [],
   "source": []
  },
  {
   "cell_type": "code",
   "execution_count": null,
   "metadata": {},
   "outputs": [],
   "source": []
  },
  {
   "cell_type": "code",
   "execution_count": null,
   "metadata": {},
   "outputs": [],
   "source": [
    "# Tkinter 윈도우 생성\n",
    "root = tk.Tk()\n",
    "root.attributes(\"-fullscreen\", True)  # 전체 화면 모드\n",
    "root.attributes(\"-topmost\", True)  # 항상 맨 위에\n",
    "\n",
    "# 캡처한 이미지 로드 및 라벨에 설정\n",
    "image = Image.open(screenshot_path)\n",
    "photo = ImageTk.PhotoImage(image)\n",
    "\n",
    "# Tkinter Label에 이미지 설정\n",
    "label = tk.Label(root, image=photo)\n",
    "label.image = photo  # 참조 유지\n",
    "label.pack()\n",
    "\n",
    "# 윈도우 제목 표시줄 제거\n",
    "def remove_title_bar():\n",
    "    hwnd = win32gui.GetParent(root.winfo_id())\n",
    "    style = win32gui.GetWindowLong(hwnd, win32con.GWL_STYLE)\n",
    "    style &= ~win32con.WS_CAPTION\n",
    "    win32gui.SetWindowLong(hwnd, win32con.GWL_STYLE, style)\n",
    "    win32gui.SetWindowPos(hwnd, None, 0, 0, 0, 0,\n",
    "                          win32con.SWP_NOMOVE | win32con.SWP_NOSIZE | win32con.SWP_NOZORDER | win32con.SWP_FRAMECHANGED)\n",
    "\n",
    "# 100ms 후에 제목 표시줄 제거\n",
    "root.after(100, remove_title_bar)\n",
    "\n",
    "# Tkinter 루프 시작\n",
    "root.mainloop()\n",
    "\n",
    "# 스크린샷 파일 삭제\n",
    "os.remove(screenshot_path)"
   ]
  },
  {
   "cell_type": "code",
   "execution_count": null,
   "metadata": {},
   "outputs": [],
   "source": []
  },
  {
   "cell_type": "code",
   "execution_count": null,
   "metadata": {},
   "outputs": [],
   "source": []
  },
  {
   "cell_type": "code",
   "execution_count": 2,
   "metadata": {},
   "outputs": [],
   "source": [
    "import tkinter as tk\n",
    "from tkinter import Tk, Label\n",
    "from PIL import Image, ImageTk, ImageGrab\n",
    "import win32gui\n",
    "import win32con\n",
    "\n",
    "import pygetwindow as gw\n",
    "\n",
    "import dotenv\n",
    "\n",
    "import os"
   ]
  },
  {
   "cell_type": "code",
   "execution_count": 1,
   "metadata": {},
   "outputs": [],
   "source": [
    "import win32gui\n",
    "import win32con\n",
    "\n",
    "\n",
    "def hide_from_taskbar(window_title):\n",
    "\n",
    "    \n",
    "    hwnd = win32gui.FindWindow(None, window_title)\n",
    "    \n",
    "    if hwnd != 0:\n",
    "\n",
    "        dotenv.set_key(env_path, 'previous_style_of' + str(win32gui.GetWindowLong(hwnd, win32con.GWL_EXSTYLE)))\n",
    "        dotenv.load_dotenv(env_path, override=True) \n",
    "        \n",
    "        style = win32gui.GetWindowLong(hwnd, win32con.GWL_EXSTYLE)\n",
    "\n",
    "\n",
    "\n",
    "        style |= win32con.WS_EX_TOOLWINDOW # 비트연산을 하는 이유 -> '스타일'의 이진수 각 비트마다 다른 속성을 가리킴. 가령, WS_EX_TOOLWINDOW가 참인 경우는 2^7인 128이 됨 -> 2진수 1000000 -> 고로, 각 비트는 독립적임\n",
    "\n",
    "        win32gui.SetWindowLong(hwnd, win32con.GWL_EXSTYLE, style)\n",
    "        win32gui.ShowWindow(hwnd, win32con.SW_HIDE) # 요게 WS_EX_TOOLWINDOW와 같이 쓰여야 하는 이유 -> 느낌이 좀 다르긴 한데 설정 적용 이후 F5(새로고침)하는 것과 비슷함 -- 껍데기를 숨기는 거라고 해야 하나..\n",
    "\n",
    "def show_in_taskbar(window_title):\n",
    "    \n",
    "    if window_title in previous_styles:\n",
    "        hwnd = win32gui.FindWindow(None, window_title)\n",
    "        win32gui.SetWindowLong(hwnd, win32con.GWL_EXSTYLE, previous_styles[window_title])\n",
    "        win32gui.ShowWindow(hwnd, win32con.SW_SHOW)\n",
    "\n",
    "        del previous_styles[window_title]"
   ]
  },
  {
   "cell_type": "code",
   "execution_count": null,
   "metadata": {},
   "outputs": [],
   "source": []
  },
  {
   "cell_type": "code",
   "execution_count": null,
   "metadata": {},
   "outputs": [],
   "source": []
  },
  {
   "cell_type": "markdown",
   "metadata": {},
   "source": [
    "## .env update"
   ]
  },
  {
   "cell_type": "code",
   "execution_count": 1,
   "metadata": {},
   "outputs": [
    {
     "data": {
      "text/plain": [
       "True"
      ]
     },
     "execution_count": 1,
     "metadata": {},
     "output_type": "execute_result"
    }
   ],
   "source": [
    "from dotenv import set_key, load_dotenv, unset_key\n",
    "from os import environ, getcwd\n",
    "\n",
    "env_path = getcwd() + '/.env'\n",
    "load_dotenv(env_path)"
   ]
  },
  {
   "cell_type": "code",
   "execution_count": 9,
   "metadata": {},
   "outputs": [],
   "source": [
    "def env_update(key, value = None, env_path = os.getcwd() + '/.env', mod = 'set'):\n",
    "    if mod=='set':\n",
    "        set_key(env_path, key, value)\n",
    "    elif mod=='unset':\n",
    "        unset_key(env_path, key)\n",
    "    load_dotenv(env_path, override=True)"
   ]
  },
  {
   "cell_type": "code",
   "execution_count": 24,
   "metadata": {},
   "outputs": [
    {
     "data": {
      "text/plain": [
       "'L'"
      ]
     },
     "execution_count": 24,
     "metadata": {},
     "output_type": "execute_result"
    }
   ],
   "source": [
    "env_update('FACE', 'L')\n",
    "environ.get('FACE')"
   ]
  },
  {
   "cell_type": "markdown",
   "metadata": {},
   "source": [
    "# initialize .env"
   ]
  },
  {
   "cell_type": "code",
   "execution_count": 27,
   "metadata": {},
   "outputs": [],
   "source": [
    "initial_env_path = getcwd() + '/initial_env.txt'"
   ]
  },
  {
   "cell_type": "code",
   "execution_count": 28,
   "metadata": {},
   "outputs": [],
   "source": [
    "def initialize_env():\n",
    "    with open(initial_env_path, 'r') as file:\n",
    "        initial_value = file.read()\n",
    "\n",
    "    with open(env_path, 'w') as file:\n",
    "        file.write(initial_value)"
   ]
  },
  {
   "cell_type": "code",
   "execution_count": null,
   "metadata": {},
   "outputs": [],
   "source": [
    "def update_initial_env():\n",
    "    pass"
   ]
  },
  {
   "cell_type": "markdown",
   "metadata": {},
   "source": [
    "# 단축키 바인딩 & 확인"
   ]
  },
  {
   "cell_type": "code",
   "execution_count": 2,
   "metadata": {},
   "outputs": [],
   "source": [
    "from keyboard import add_hotkey as add_hotkey, wait as kwait\n",
    "from keyboard import unhook_all, on_press, read_key\n",
    "#on_press 이 씹새는 비동기함수, read_key는 동기함수"
   ]
  },
  {
   "cell_type": "code",
   "execution_count": 5,
   "metadata": {},
   "outputs": [
    {
     "name": "stdout",
     "output_type": "stream",
     "text": [
      "q+w+e\n",
      "q+w+e\n"
     ]
    }
   ],
   "source": [
    "print(environ.get('SHOOKUP_RIGHT'))\n",
    "print(environ.get('SHOOKUP_LEFT'))\n",
    "\n",
    "ass = 'q+spacebar'\n",
    "\n",
    "def asss(a='a'):\n",
    "    print(a)"
   ]
  },
  {
   "cell_type": "code",
   "execution_count": 40,
   "metadata": {},
   "outputs": [],
   "source": [
    "def create_hot_key_ui(hot_key):\n",
    "    hot_key_ui = tk.Tk()\n",
    "    #hot_key_ui.overrideredirect(True)\n",
    "    hot_key_ui.attributes('-topmost', True)\n",
    "\n",
    "    screen_width = hot_key_ui.winfo_screenwidth()\n",
    "    screen_height = hot_key_ui.winfo_screenheight()\n",
    "\n",
    "    print(screen_width, screen_height)\n",
    "\n",
    "    hot_key_ui.geometry(f\"{screen_width}x100+{0}+{screen_height//2 - 50}\")\n",
    "\n",
    "    label = tk.Label(hot_key_ui, text=\"Initial Text\")\n",
    "    label.pack()\n",
    "\n",
    "\n",
    "\n",
    "    \n",
    "\n",
    "\n",
    "    return hot_key_ui\n",
    "\n",
    "\n",
    "def close_hot_key_ui(hot_key_ui):\n",
    "    print('close')\n",
    "    hot_key_ui.destroy()"
   ]
  },
  {
   "cell_type": "code",
   "execution_count": 39,
   "metadata": {},
   "outputs": [
    {
     "name": "stdout",
     "output_type": "stream",
     "text": [
      "1707 1067\n"
     ]
    }
   ],
   "source": [
    "hot_key_ui = create_hot_key_ui(2)\n",
    "hot_key_ui.mainloop()"
   ]
  },
  {
   "cell_type": "code",
   "execution_count": null,
   "metadata": {},
   "outputs": [],
   "source": []
  },
  {
   "cell_type": "code",
   "execution_count": null,
   "metadata": {},
   "outputs": [],
   "source": []
  },
  {
   "cell_type": "markdown",
   "metadata": {},
   "source": [
    "# 섹스"
   ]
  },
  {
   "cell_type": "code",
   "execution_count": 1,
   "metadata": {},
   "outputs": [],
   "source": [
    "from dotenv import set_key, load_dotenv, unset_key\n",
    "from os import environ, getcwd\n",
    "\n",
    "env_path = getcwd() + '/.env'\n",
    "load_dotenv(env_path)\n",
    "\n",
    "from keyboard import add_hotkey as add_hotkey, wait as kwait\n",
    "from keyboard import unhook_all, on_press, read_key\n",
    "#on_press 이 씹새는 비동기함수, read_key는 동기함수"
   ]
  },
  {
   "cell_type": "code",
   "execution_count": null,
   "metadata": {},
   "outputs": [],
   "source": []
  },
  {
   "cell_type": "code",
   "execution_count": 5,
   "metadata": {},
   "outputs": [
    {
     "name": "stdout",
     "output_type": "stream",
     "text": [
      "1707 1067\n",
      "d False\n",
      "append : d\n",
      "True ['d']\n",
      "d False\n",
      "append : d\n",
      "True ['d', 'd']\n",
      "s False\n",
      "append : s\n",
      "True ['d', 'd', 's']\n",
      "s False\n",
      "append : s\n",
      "True ['d', 'd', 's', 's']\n",
      "backspace False\n",
      "pop\n",
      "True ['d', 'd', 's']\n",
      "backspace False\n",
      "pop\n",
      "True ['d', 'd']\n",
      "space False\n",
      "append : space\n",
      "True ['d', 'd', 'space']\n",
      "space False\n",
      "append : space\n",
      "True ['d', 'd', 'space', 'space']\n",
      "enter True\n",
      "enter\n",
      "False ['d', 'd', 'space', 'space']\n",
      "destroy\n",
      "['d', 'd', 'space', 'space']\n"
     ]
    }
   ],
   "source": [
    "import tkinter as tk\n",
    "root = tk.Tk()\n",
    "#root.overrideredirect(True)\n",
    "root.attributes('-topmost', True)\n",
    "\n",
    "screen_width = root.winfo_screenwidth()\n",
    "screen_height = root.winfo_screenheight()\n",
    "\n",
    "print(screen_width, screen_height)\n",
    "\n",
    "root.geometry(f\"{screen_width}x100+{0}+{screen_height//2 - 50}\")\n",
    "\n",
    "label = tk.Label(root, text=\"Initial Text\")\n",
    "label.pack()\n",
    "\n",
    "\n",
    "\n",
    "\n",
    "def update_hot_key():\n",
    "\n",
    "    unhook_all()\n",
    "\n",
    "\n",
    "    def what_key(keys):\n",
    "        key = read_key()\n",
    "        print(key, key=='enter' and len(keys)>0)\n",
    "\n",
    "        if key == 'enter' and len(keys) > 0:\n",
    "            print('enter')\n",
    "            return False, keys\n",
    "        elif key == 'backspace' and len(keys) > 0:\n",
    "            print('pop')\n",
    "            keys.pop()\n",
    "        elif key == 'enter' or key == 'backspace':\n",
    "            print('처음')\n",
    "            pass\n",
    "        else:\n",
    "            print('append :', key)\n",
    "            keys.append(key)\n",
    "\n",
    "        return True, keys\n",
    "\n",
    "    keep = True\n",
    "    keys = []\n",
    "    while keep:\n",
    "\n",
    "        keep, keys = what_key(keys)\n",
    "        print(keep, keys)\n",
    "\n",
    "\n",
    "\n",
    "    print('destroy')\n",
    "    root.destroy()\n",
    "\n",
    "    print(keys)\n",
    "\n",
    "\n",
    "    return keys\n",
    "\n",
    "\n",
    "    \n",
    "\n",
    "    \n",
    "\n",
    "\n",
    "\n",
    "\n",
    "root.after(1000, update_hot_key)\n",
    "root.mainloop()\n",
    "\n",
    "# print('keys :', keys)"
   ]
  },
  {
   "cell_type": "code",
   "execution_count": null,
   "metadata": {},
   "outputs": [],
   "source": []
  },
  {
   "cell_type": "code",
   "execution_count": null,
   "metadata": {},
   "outputs": [],
   "source": []
  },
  {
   "cell_type": "code",
   "execution_count": 41,
   "metadata": {},
   "outputs": [],
   "source": [
    "import tkinter as tk\n",
    "\n",
    "def on_enter(event):\n",
    "    root.destroy()\n",
    "\n",
    "root = tk.Tk()\n",
    "root.title('Enter를 누르면 창 닫힘')\n",
    "\n",
    "label = tk.Label(root, text='Enter를 누르면 창이 닫힙니다.')\n",
    "label.pack()\n",
    "\n",
    "root.bind('<Return>', on_enter)\n",
    "\n",
    "root.mainloop()\n"
   ]
  },
  {
   "cell_type": "code",
   "execution_count": null,
   "metadata": {},
   "outputs": [],
   "source": []
  },
  {
   "cell_type": "code",
   "execution_count": 35,
   "metadata": {},
   "outputs": [
    {
     "name": "stderr",
     "output_type": "stream",
     "text": [
      "Exception in thread Thread-103 (run_hot_key_ui):\n",
      "Traceback (most recent call last):\n",
      "  File \"c:\\Users\\crypt\\AppData\\Local\\Programs\\Python\\Python312\\Lib\\threading.py\", line 1073, in _bootstrap_inner\n",
      "    self.run()\n",
      "  File \"C:\\Users\\crypt\\AppData\\Roaming\\Python\\Python312\\site-packages\\ipykernel\\ipkernel.py\", line 766, in run_closure\n",
      "    _threading_Thread_run(self)\n",
      "  File \"c:\\Users\\crypt\\AppData\\Local\\Programs\\Python\\Python312\\Lib\\threading.py\", line 1010, in run\n",
      "    self._target(*self._args, **self._kwargs)\n",
      "  File \"C:\\Users\\crypt\\AppData\\Local\\Temp\\ipykernel_5876\\3659138897.py\", line 6, in run_hot_key_ui\n",
      "  File \"c:\\Users\\crypt\\AppData\\Local\\Programs\\Python\\Python312\\Lib\\tkinter\\__init__.py\", line 1504, in mainloop\n",
      "    self.tk.mainloop(n)\n",
      "RuntimeError: Calling Tcl from different apartment\n"
     ]
    },
    {
     "name": "stdout",
     "output_type": "stream",
     "text": [
      "1707 1067\n",
      "close\n"
     ]
    }
   ],
   "source": [
    "import time\n",
    "import threading\n",
    "\n",
    "# 스레드에서 실행할 함수\n",
    "def run_hot_key_ui():\n",
    "    hot_key_ui.mainloop()\n",
    "\n",
    "# 창 생성 및 스레드 시작\n",
    "hot_key_ui = create_hot_key_ui(2)\n",
    "thread = threading.Thread(target=run_hot_key_ui)\n",
    "thread.start()\n",
    "\n",
    "# 일정 시간 대기 후 창 닫기\n",
    "time.sleep(3)\n",
    "close_hot_key_ui(hot_key_ui)"
   ]
  },
  {
   "cell_type": "code",
   "execution_count": null,
   "metadata": {},
   "outputs": [],
   "source": []
  },
  {
   "cell_type": "code",
   "execution_count": null,
   "metadata": {},
   "outputs": [],
   "source": []
  },
  {
   "cell_type": "code",
   "execution_count": null,
   "metadata": {},
   "outputs": [],
   "source": []
  },
  {
   "cell_type": "code",
   "execution_count": null,
   "metadata": {},
   "outputs": [],
   "source": []
  },
  {
   "cell_type": "code",
   "execution_count": 4,
   "metadata": {},
   "outputs": [
    {
     "name": "stdout",
     "output_type": "stream",
     "text": [
      "1707 1067\n",
      "on_press\n",
      "지나감\n",
      "keys : []\n"
     ]
    }
   ],
   "source": [
    "import tkinter as tk\n",
    "root = tk.Tk()\n",
    "#root.overrideredirect(True)\n",
    "root.attributes('-topmost', True)\n",
    "\n",
    "screen_width = root.winfo_screenwidth()\n",
    "screen_height = root.winfo_screenheight()\n",
    "\n",
    "print(screen_width, screen_height)\n",
    "\n",
    "root.geometry(f\"{screen_width}x100+{0}+{screen_height//2 - 50}\")\n",
    "\n",
    "label = tk.Label(root, text=\"Initial Text\")\n",
    "label.pack()\n",
    "\n",
    "\n",
    "keys = []\n",
    "\n",
    "def update_hot_key():\n",
    "    global keys\n",
    "\n",
    "    def what_key(event):\n",
    "        key = event.name\n",
    "        if key == 'enter' and len(keys) > 0:\n",
    "            until_enter = False\n",
    "            unhook_all()\n",
    "        elif key == 'backspace' and len(keys) > 0:\n",
    "            keys.pop()\n",
    "        else:\n",
    "            keys.append(key)\n",
    "        \n",
    "        print(keys, end='\\r')\n",
    "\n",
    "\n",
    "    unhook_all()\n",
    "\n",
    "    print('on_press')\n",
    "\n",
    "    until_enter = True\n",
    "    on_press(what_key)\n",
    "\n",
    "    if until_enter==False:\n",
    "        print('destroy')\n",
    "        root.destroy()\n",
    "    \n",
    "    print('지나감')\n",
    "\n",
    "\n",
    "    \n",
    "\n",
    "    \n",
    "\n",
    "\n",
    "\n",
    "\n",
    "root.after(1000, update_hot_key)\n",
    "root.mainloop()\n",
    "\n",
    "print('keys :', keys)"
   ]
  },
  {
   "cell_type": "code",
   "execution_count": 5,
   "metadata": {},
   "outputs": [],
   "source": [
    "import keyboard"
   ]
  },
  {
   "cell_type": "code",
   "execution_count": 7,
   "metadata": {},
   "outputs": [
    {
     "data": {
      "text/plain": [
       "'enter'"
      ]
     },
     "execution_count": 7,
     "metadata": {},
     "output_type": "execute_result"
    }
   ],
   "source": [
    "keyboard.read_key()"
   ]
  },
  {
   "cell_type": "code",
   "execution_count": null,
   "metadata": {},
   "outputs": [],
   "source": [
    "from keyboard import unhook_all, on_press\n",
    "import tkinter\n",
    "\n",
    "\n",
    "def update_hot_key():\n",
    "    keys = []\n",
    "\n",
    "    def what_key(event):\n",
    "        key = event.name\n",
    "        if key == 'enter' and len(keys) > 0:\n",
    "            unhook_all()\n",
    "        elif key == 'backspace' and len(keys) > 0:\n",
    "            keys.pop()\n",
    "        else:\n",
    "            keys.append(key)\n",
    "        \n",
    "        print('                                   ', end='\\r')\n",
    "        print(keys, end='\\r')\n",
    "\n",
    "\n",
    "    unhook_all()\n",
    "    on_press(what_key)\n",
    "\n",
    "    return keys"
   ]
  },
  {
   "cell_type": "code",
   "execution_count": null,
   "metadata": {},
   "outputs": [],
   "source": []
  },
  {
   "cell_type": "code",
   "execution_count": 70,
   "metadata": {},
   "outputs": [
    {
     "ename": "AttributeError",
     "evalue": "module 'keyboard' has no attribute 'read'",
     "output_type": "error",
     "traceback": [
      "\u001b[1;31m---------------------------------------------------------------------------\u001b[0m",
      "\u001b[1;31mAttributeError\u001b[0m                            Traceback (most recent call last)",
      "Cell \u001b[1;32mIn[70], line 2\u001b[0m\n\u001b[0;32m      1\u001b[0m \u001b[38;5;28;01mimport\u001b[39;00m \u001b[38;5;21;01mkeyboard\u001b[39;00m\n\u001b[1;32m----> 2\u001b[0m \u001b[43mkeyboard\u001b[49m\u001b[38;5;241;43m.\u001b[39;49m\u001b[43mread\u001b[49m()\n",
      "\u001b[1;31mAttributeError\u001b[0m: module 'keyboard' has no attribute 'read'"
     ]
    }
   ],
   "source": [
    "import keyboard\n",
    "\n",
    "key = keyboard.read_key()\n",
    "if key == 'enter' and len(keys) > 0:\n",
    "    pass\n",
    "\n",
    "elif key == 'backspace' and len(keys) > 0:\n",
    "    keys.pop()\n",
    "else:\n",
    "    keys.append(key)\n",
    "\n",
    "print(keys, end = '\\r')\n"
   ]
  },
  {
   "cell_type": "code",
   "execution_count": 71,
   "metadata": {},
   "outputs": [],
   "source": [
    "import keyboard\n",
    "\n",
    "key = keyboard.read_key()"
   ]
  },
  {
   "cell_type": "code",
   "execution_count": 73,
   "metadata": {},
   "outputs": [
    {
     "name": "stdout",
     "output_type": "stream",
     "text": [
      "enter\n",
      "ctrl\n",
      "f\n",
      "f\n",
      "d\n",
      "d\n",
      "s\n",
      "s\n",
      "a\n",
      "a\n",
      "f\n",
      "f\n"
     ]
    },
    {
     "ename": "KeyboardInterrupt",
     "evalue": "",
     "output_type": "error",
     "traceback": [
      "\u001b[1;31m---------------------------------------------------------------------------\u001b[0m",
      "\u001b[1;31mKeyboardInterrupt\u001b[0m                         Traceback (most recent call last)",
      "Cell \u001b[1;32mIn[73], line 2\u001b[0m\n\u001b[0;32m      1\u001b[0m \u001b[38;5;28;01mwhile\u001b[39;00m \u001b[38;5;28;01mTrue\u001b[39;00m:\n\u001b[1;32m----> 2\u001b[0m     \u001b[38;5;28mprint\u001b[39m(\u001b[43mkeyboard\u001b[49m\u001b[38;5;241;43m.\u001b[39;49m\u001b[43mread_key\u001b[49m\u001b[43m(\u001b[49m\u001b[43m)\u001b[49m)\n",
      "File \u001b[1;32mc:\\Users\\crypt\\AppData\\Local\\Programs\\Python\\Python312\\Lib\\site-packages\\keyboard\\__init__.py:935\u001b[0m, in \u001b[0;36mread_key\u001b[1;34m(suppress)\u001b[0m\n\u001b[0;32m    930\u001b[0m \u001b[38;5;28;01mdef\u001b[39;00m \u001b[38;5;21mread_key\u001b[39m(suppress\u001b[38;5;241m=\u001b[39m\u001b[38;5;28;01mFalse\u001b[39;00m):\n\u001b[0;32m    931\u001b[0m \u001b[38;5;250m    \u001b[39m\u001b[38;5;124;03m\"\"\"\u001b[39;00m\n\u001b[0;32m    932\u001b[0m \u001b[38;5;124;03m    Blocks until a keyboard event happens, then returns that event's name or,\u001b[39;00m\n\u001b[0;32m    933\u001b[0m \u001b[38;5;124;03m    if missing, its scan code.\u001b[39;00m\n\u001b[0;32m    934\u001b[0m \u001b[38;5;124;03m    \"\"\"\u001b[39;00m\n\u001b[1;32m--> 935\u001b[0m     event \u001b[38;5;241m=\u001b[39m \u001b[43mread_event\u001b[49m\u001b[43m(\u001b[49m\u001b[43msuppress\u001b[49m\u001b[43m)\u001b[49m\n\u001b[0;32m    936\u001b[0m     \u001b[38;5;28;01mreturn\u001b[39;00m event\u001b[38;5;241m.\u001b[39mname \u001b[38;5;129;01mor\u001b[39;00m event\u001b[38;5;241m.\u001b[39mscan_code\n",
      "File \u001b[1;32mc:\\Users\\crypt\\AppData\\Local\\Programs\\Python\\Python312\\Lib\\site-packages\\keyboard\\__init__.py:926\u001b[0m, in \u001b[0;36mread_event\u001b[1;34m(suppress)\u001b[0m\n\u001b[0;32m    924\u001b[0m hooked \u001b[38;5;241m=\u001b[39m hook(queue\u001b[38;5;241m.\u001b[39mput, suppress\u001b[38;5;241m=\u001b[39msuppress)\n\u001b[0;32m    925\u001b[0m \u001b[38;5;28;01mwhile\u001b[39;00m \u001b[38;5;28;01mTrue\u001b[39;00m:\n\u001b[1;32m--> 926\u001b[0m     event \u001b[38;5;241m=\u001b[39m \u001b[43mqueue\u001b[49m\u001b[38;5;241;43m.\u001b[39;49m\u001b[43mget\u001b[49m\u001b[43m(\u001b[49m\u001b[43m)\u001b[49m\n\u001b[0;32m    927\u001b[0m     unhook(hooked)\n\u001b[0;32m    928\u001b[0m     \u001b[38;5;28;01mreturn\u001b[39;00m event\n",
      "File \u001b[1;32mc:\\Users\\crypt\\AppData\\Local\\Programs\\Python\\Python312\\Lib\\queue.py:171\u001b[0m, in \u001b[0;36mQueue.get\u001b[1;34m(self, block, timeout)\u001b[0m\n\u001b[0;32m    169\u001b[0m \u001b[38;5;28;01melif\u001b[39;00m timeout \u001b[38;5;129;01mis\u001b[39;00m \u001b[38;5;28;01mNone\u001b[39;00m:\n\u001b[0;32m    170\u001b[0m     \u001b[38;5;28;01mwhile\u001b[39;00m \u001b[38;5;129;01mnot\u001b[39;00m \u001b[38;5;28mself\u001b[39m\u001b[38;5;241m.\u001b[39m_qsize():\n\u001b[1;32m--> 171\u001b[0m         \u001b[38;5;28;43mself\u001b[39;49m\u001b[38;5;241;43m.\u001b[39;49m\u001b[43mnot_empty\u001b[49m\u001b[38;5;241;43m.\u001b[39;49m\u001b[43mwait\u001b[49m\u001b[43m(\u001b[49m\u001b[43m)\u001b[49m\n\u001b[0;32m    172\u001b[0m \u001b[38;5;28;01melif\u001b[39;00m timeout \u001b[38;5;241m<\u001b[39m \u001b[38;5;241m0\u001b[39m:\n\u001b[0;32m    173\u001b[0m     \u001b[38;5;28;01mraise\u001b[39;00m \u001b[38;5;167;01mValueError\u001b[39;00m(\u001b[38;5;124m\"\u001b[39m\u001b[38;5;124m'\u001b[39m\u001b[38;5;124mtimeout\u001b[39m\u001b[38;5;124m'\u001b[39m\u001b[38;5;124m must be a non-negative number\u001b[39m\u001b[38;5;124m\"\u001b[39m)\n",
      "File \u001b[1;32mc:\\Users\\crypt\\AppData\\Local\\Programs\\Python\\Python312\\Lib\\threading.py:355\u001b[0m, in \u001b[0;36mCondition.wait\u001b[1;34m(self, timeout)\u001b[0m\n\u001b[0;32m    353\u001b[0m \u001b[38;5;28;01mtry\u001b[39;00m:    \u001b[38;5;66;03m# restore state no matter what (e.g., KeyboardInterrupt)\u001b[39;00m\n\u001b[0;32m    354\u001b[0m     \u001b[38;5;28;01mif\u001b[39;00m timeout \u001b[38;5;129;01mis\u001b[39;00m \u001b[38;5;28;01mNone\u001b[39;00m:\n\u001b[1;32m--> 355\u001b[0m         \u001b[43mwaiter\u001b[49m\u001b[38;5;241;43m.\u001b[39;49m\u001b[43macquire\u001b[49m\u001b[43m(\u001b[49m\u001b[43m)\u001b[49m\n\u001b[0;32m    356\u001b[0m         gotit \u001b[38;5;241m=\u001b[39m \u001b[38;5;28;01mTrue\u001b[39;00m\n\u001b[0;32m    357\u001b[0m     \u001b[38;5;28;01melse\u001b[39;00m:\n",
      "\u001b[1;31mKeyboardInterrupt\u001b[0m: "
     ]
    }
   ],
   "source": [
    "while True:\n",
    "    print(keyboard.read_key())"
   ]
  },
  {
   "cell_type": "code",
   "execution_count": 60,
   "metadata": {},
   "outputs": [],
   "source": [
    "from keyboard import unhook_all, on_press\n",
    "from tkinter import Tk as create_window\n",
    "\n",
    "def update_hot_key():\n",
    "    keys = []\n",
    "    hot_key_ui = create_window()\n",
    "\n",
    "\n",
    "\n",
    "    def what_key(event):\n",
    "        key = event.name\n",
    "        if key == 'enter' and len(keys) > 0:\n",
    "            unhook_all()\n",
    "        elif key == 'backspace' and len(keys) > 0:\n",
    "            keys.pop()\n",
    "        else:\n",
    "            keys.append(key)\n",
    "        \n",
    "        print('                                   ', end='\\r')\n",
    "        print(keys, end='\\r')\n",
    "\n",
    "\n",
    "    unhook_all()\n",
    "    on_press(what_key)\n",
    "\n",
    "\n",
    "    return keys"
   ]
  },
  {
   "cell_type": "code",
   "execution_count": 66,
   "metadata": {},
   "outputs": [],
   "source": [
    "qa = update_hot_key()"
   ]
  },
  {
   "cell_type": "code",
   "execution_count": 68,
   "metadata": {},
   "outputs": [
    {
     "data": {
      "text/plain": [
       "['q', 'a', 'd', 's']"
      ]
     },
     "execution_count": 68,
     "metadata": {},
     "output_type": "execute_result"
    }
   ],
   "source": [
    "qa"
   ]
  },
  {
   "cell_type": "code",
   "execution_count": 11,
   "metadata": {},
   "outputs": [],
   "source": [
    "from tkinter import Tk as create_window\n",
    "\n",
    "hot_key_ui = create_window()\n",
    "hot_key_ui.overrideredirect(True)\n",
    "\n",
    "screen_width = hot_key_ui.winfo_screenwidth()\n",
    "screen_height = hot_key_ui.winfo_screenheight()\n",
    "hot_key_ui.geometry(f\"200x100+{(screen_width - 200)//2}+30\")\n",
    "\n",
    "hot_key_ui.mainloop()"
   ]
  },
  {
   "cell_type": "code",
   "execution_count": 9,
   "metadata": {},
   "outputs": [
    {
     "ename": "ModuleNotFoundError",
     "evalue": "No module named 'tkinter.Tk'",
     "output_type": "error",
     "traceback": [
      "\u001b[1;31m---------------------------------------------------------------------------\u001b[0m",
      "\u001b[1;31mModuleNotFoundError\u001b[0m                       Traceback (most recent call last)",
      "Cell \u001b[1;32mIn[9], line 2\u001b[0m\n\u001b[0;32m      1\u001b[0m \u001b[38;5;28;01mfrom\u001b[39;00m \u001b[38;5;21;01mkeyboard\u001b[39;00m \u001b[38;5;28;01mimport\u001b[39;00m unhook_all, on_press\n\u001b[1;32m----> 2\u001b[0m \u001b[38;5;28;01mimport\u001b[39;00m \u001b[38;5;21;01mtkinter\u001b[39;00m\u001b[38;5;21;01m.\u001b[39;00m\u001b[38;5;21;01mTk\u001b[39;00m \u001b[38;5;28;01mas\u001b[39;00m \u001b[38;5;21;01mcreate_window\u001b[39;00m\n\u001b[0;32m      4\u001b[0m \u001b[38;5;28;01mdef\u001b[39;00m \u001b[38;5;21mupdate_hot_key\u001b[39m():\n\u001b[0;32m      5\u001b[0m     keys \u001b[38;5;241m=\u001b[39m []\n",
      "\u001b[1;31mModuleNotFoundError\u001b[0m: No module named 'tkinter.Tk'"
     ]
    }
   ],
   "source": [
    "from keyboard import unhook_all, on_press\n",
    "from tkinter import Tk as create_window\n",
    "\n",
    "def update_hot_key():\n",
    "    keys = []\n",
    "    hot_key_ui = create_window()\n",
    "\n",
    "\n",
    "\n",
    "    def what_key(event):\n",
    "        key = event.name\n",
    "        if key == 'enter' and len(keys) > 0:\n",
    "            unhook_all()\n",
    "        elif key == 'backspace' and len(keys) > 0:\n",
    "            keys.pop()\n",
    "        else:\n",
    "            keys.append(key)\n",
    "        \n",
    "        print('                                   ', end='\\r')\n",
    "        print(keys, end='\\r')\n",
    "\n",
    "\n",
    "    unhook_all()\n",
    "    on_press(what_key)\n",
    "\n",
    "    return keys"
   ]
  },
  {
   "cell_type": "code",
   "execution_count": null,
   "metadata": {},
   "outputs": [],
   "source": [
    "new_hot_key = update_hot_key()"
   ]
  },
  {
   "cell_type": "code",
   "execution_count": null,
   "metadata": {},
   "outputs": [],
   "source": []
  },
  {
   "cell_type": "code",
   "execution_count": null,
   "metadata": {},
   "outputs": [],
   "source": [
    "root.destroy()"
   ]
  },
  {
   "cell_type": "code",
   "execution_count": 25,
   "metadata": {},
   "outputs": [],
   "source": [
    "import tkinter as tk\n",
    "\n",
    "root = tk.Tk()\n",
    "root.title(\"My GUI\")\n",
    "\n",
    "# 화면 중앙에서 위로 30, 아래로 30까지 이동\n",
    "screen_width = root.winfo_screenwidth()\n",
    "screen_height = root.winfo_screenheight()\n",
    "root.geometry(f\"200x0+{(screen_width - 200)//2}+30\")\n",
    "\n",
    "label = tk.Label(root, text=\"Initial Text\")\n",
    "label.pack()\n",
    "\n",
    "\n",
    "root.mainloop()"
   ]
  },
  {
   "cell_type": "code",
   "execution_count": null,
   "metadata": {},
   "outputs": [],
   "source": [
    "import tkinter as tk\n",
    "\n",
    "def function_a_start():\n",
    "    # GUI 생성\n",
    "    root = tk.Tk()\n",
    "    root.title(\"My GUI\")\n",
    "\n",
    "    # 화면 중앙에서 위로 30, 아래로 30까지 이동\n",
    "    screen_width = root.winfo_screenwidth()\n",
    "    screen_height = root.winfo_screenheight()\n",
    "    root.geometry(f\"200x100+{(screen_width - 200)//2}+30\")\n",
    "\n",
    "    label = tk.Label(root, text=\"Initial Text\")\n",
    "    label.pack()\n",
    "\n",
    "    # 함수 b가 호출될 때 텍스트 변경\n",
    "    root.bind(\"<Button-1>\", function_b_start)\n",
    "\n",
    "    root.mainloop()\n",
    "\n",
    "def function_a_end():\n",
    "    # GUI 종료\n",
    "    root.destroy()\n",
    "\n",
    "def function_b_start(event):\n",
    "    # 함수 b 호출될 때 텍스트 변경\n",
    "    label.config(text=\"New Text\")\n",
    "\n",
    "def function_b_end(event):\n",
    "    pass  # 함수 b 종료 시 추가 동작 필요 시 구현\n",
    "\n",
    "# 함수 a의 시작과 종료에 GUI 연결\n",
    "function_a_start()\n",
    "function_a_end()\n"
   ]
  },
  {
   "cell_type": "code",
   "execution_count": 22,
   "metadata": {},
   "outputs": [],
   "source": []
  },
  {
   "cell_type": "code",
   "execution_count": 23,
   "metadata": {},
   "outputs": [
    {
     "data": {
      "text/plain": [
       "['q', 'q', 'q']"
      ]
     },
     "execution_count": 23,
     "metadata": {},
     "output_type": "execute_result"
    }
   ],
   "source": [
    "new_hot_key"
   ]
  },
  {
   "cell_type": "code",
   "execution_count": null,
   "metadata": {},
   "outputs": [],
   "source": [
    "from keyboard import unhook_all, on_press\n",
    "import tkinter\n",
    "\n",
    "\n",
    "def update_hot_key():\n",
    "    keys = []\n",
    "\n",
    "    def what_key(event):\n",
    "        key = event.name\n",
    "        if key == 'enter' and len(keys) > 0:\n",
    "            unhook_all()\n",
    "        elif key == 'backspace' and len(keys) > 0:\n",
    "            keys.pop()\n",
    "        else:\n",
    "            keys.append(key)\n",
    "        \n",
    "        print('                                   ', end='\\r')\n",
    "        print(keys, end='\\r')\n",
    "\n",
    "\n",
    "    unhook_all()\n",
    "    on_press(what_key)\n",
    "\n",
    "    return keys"
   ]
  },
  {
   "cell_type": "code",
   "execution_count": null,
   "metadata": {},
   "outputs": [],
   "source": []
  },
  {
   "cell_type": "code",
   "execution_count": 4,
   "metadata": {},
   "outputs": [
    {
     "data": {
      "text/plain": [
       "[]"
      ]
     },
     "execution_count": 4,
     "metadata": {},
     "output_type": "execute_result"
    }
   ],
   "source": [
    "update_hot_key()"
   ]
  },
  {
   "cell_type": "code",
   "execution_count": null,
   "metadata": {},
   "outputs": [],
   "source": [
    "'''\n",
    "    key = keyboard.read_key()\n",
    "    if key == 'enter' and len(keys) > 0:\n",
    "        pass\n",
    "\n",
    "    elif key == 'backspace' and len(keys) > 0:\n",
    "        keys.pop()\n",
    "    else:\n",
    "        keys.append(key)\n",
    "    \n",
    "    print(keys, end = '\\r')\n",
    "'''"
   ]
  },
  {
   "cell_type": "code",
   "execution_count": null,
   "metadata": {},
   "outputs": [],
   "source": []
  },
  {
   "cell_type": "code",
   "execution_count": 23,
   "metadata": {},
   "outputs": [],
   "source": [
    "keyboard.read_key()"
   ]
  },
  {
   "cell_type": "code",
   "execution_count": 30,
   "metadata": {},
   "outputs": [
    {
     "data": {
      "text/plain": [
       "'C:\\\\Users\\\\crypt\\\\AppData\\\\Roaming'"
      ]
     },
     "execution_count": 30,
     "metadata": {},
     "output_type": "execute_result"
    }
   ],
   "source": [
    "os.getenv('APPDATA')"
   ]
  },
  {
   "cell_type": "code",
   "execution_count": 32,
   "metadata": {},
   "outputs": [
    {
     "data": {
      "text/plain": [
       "'C:\\\\Users\\\\crypt\\\\AppData\\\\Roaming'"
      ]
     },
     "execution_count": 32,
     "metadata": {},
     "output_type": "execute_result"
    }
   ],
   "source": [
    "environ.get('APPDATA')"
   ]
  },
  {
   "cell_type": "code",
   "execution_count": 33,
   "metadata": {},
   "outputs": [],
   "source": [
    "import subprocess"
   ]
  },
  {
   "cell_type": "code",
   "execution_count": 35,
   "metadata": {},
   "outputs": [
    {
     "name": "stderr",
     "output_type": "stream",
     "text": [
      "<>:1: SyntaxWarning: invalid escape sequence '\\W'\n",
      "<>:1: SyntaxWarning: invalid escape sequence '\\W'\n",
      "C:\\Users\\crypt\\AppData\\Local\\Temp\\ipykernel_32608\\87695236.py:1: SyntaxWarning: invalid escape sequence '\\W'\n",
      "  startup = environ.get('APPDATA') + 'Microsoft\\Windows\\Start Menu\\Programs\\Startup'\n"
     ]
    }
   ],
   "source": [
    "startup = environ.get('APPDATA') + 'Microsoft\\Windows\\Start Menu\\Programs\\Startup'"
   ]
  },
  {
   "cell_type": "code",
   "execution_count": 36,
   "metadata": {},
   "outputs": [
    {
     "data": {
      "text/plain": [
       "'C:\\\\Users\\\\crypt\\\\AppData\\\\RoamingMicrosoft\\\\Windows\\\\Start Menu\\\\Programs\\\\Startup'"
      ]
     },
     "execution_count": 36,
     "metadata": {},
     "output_type": "execute_result"
    }
   ],
   "source": [
    "startup"
   ]
  },
  {
   "cell_type": "code",
   "execution_count": 44,
   "metadata": {},
   "outputs": [
    {
     "data": {
      "text/plain": [
       "'C:\\\\Users\\\\crypt\\\\AppData\\\\Roaming\\\\Microsoft\\\\Windows\\\\Start Menu\\\\Programs\\\\Startup'"
      ]
     },
     "execution_count": 44,
     "metadata": {},
     "output_type": "execute_result"
    }
   ],
   "source": [
    "os.path.join(os.path.expanduser('~'), 'AppData', 'Roaming', 'Microsoft', 'Windows', 'Start Menu', 'Programs', 'Startup')"
   ]
  },
  {
   "cell_type": "code",
   "execution_count": null,
   "metadata": {},
   "outputs": [],
   "source": []
  },
  {
   "cell_type": "code",
   "execution_count": null,
   "metadata": {},
   "outputs": [],
   "source": []
  },
  {
   "cell_type": "code",
   "execution_count": null,
   "metadata": {},
   "outputs": [],
   "source": [
    "import winreg\n",
    "\n",
    "key_path = r\"Software\\Microsoft\\Windows\\CurrentVersion\\Run\"\n",
    "program_name = \"MyProgram\"\n",
    "program_path = r\"C:\\Path\\To\\Your\\Program.exe\"\n",
    "\n",
    "try:\n",
    "    # Open the 'Run' key\n",
    "    with winreg.OpenKey(winreg.HKEY_CURRENT_USER, key_path, 0, winreg.KEY_ALL_ACCESS) as key:\n",
    "        # Add a new value to the key\n",
    "        winreg.SetValueEx(key, program_name, 0, winreg.REG_SZ, program_path)\n",
    "        print(\"Program added to startup successfully.\")\n",
    "except Exception as e:\n",
    "    print(\"Error:\", e)\n"
   ]
  },
  {
   "cell_type": "code",
   "execution_count": null,
   "metadata": {},
   "outputs": [],
   "source": []
  },
  {
   "cell_type": "code",
   "execution_count": 34,
   "metadata": {},
   "outputs": [
    {
     "name": "stderr",
     "output_type": "stream",
     "text": [
      "<>:1: SyntaxWarning: invalid escape sequence '\\W'\n",
      "<>:1: SyntaxWarning: invalid escape sequence '\\W'\n",
      "C:\\Users\\crypt\\AppData\\Local\\Temp\\ipykernel_32608\\3532958711.py:1: SyntaxWarning: invalid escape sequence '\\W'\n",
      "  subprocess.run('explorer', environ.get('APPDATA') + 'Microsoft\\Windows\\Start Menu\\Programs\\Startup')\n",
      "C:\\Users\\crypt\\AppData\\Local\\Temp\\ipykernel_32608\\3532958711.py:1: SyntaxWarning: invalid escape sequence '\\W'\n",
      "  subprocess.run('explorer', environ.get('APPDATA') + 'Microsoft\\Windows\\Start Menu\\Programs\\Startup')\n"
     ]
    },
    {
     "ename": "TypeError",
     "evalue": "bufsize must be an integer",
     "output_type": "error",
     "traceback": [
      "\u001b[1;31m---------------------------------------------------------------------------\u001b[0m",
      "\u001b[1;31mTypeError\u001b[0m                                 Traceback (most recent call last)",
      "Cell \u001b[1;32mIn[34], line 1\u001b[0m\n\u001b[1;32m----> 1\u001b[0m \u001b[43msubprocess\u001b[49m\u001b[38;5;241;43m.\u001b[39;49m\u001b[43mrun\u001b[49m\u001b[43m(\u001b[49m\u001b[38;5;124;43m'\u001b[39;49m\u001b[38;5;124;43mexplorer\u001b[39;49m\u001b[38;5;124;43m'\u001b[39;49m\u001b[43m,\u001b[49m\u001b[43m \u001b[49m\u001b[43menviron\u001b[49m\u001b[38;5;241;43m.\u001b[39;49m\u001b[43mget\u001b[49m\u001b[43m(\u001b[49m\u001b[38;5;124;43m'\u001b[39;49m\u001b[38;5;124;43mAPPDATA\u001b[39;49m\u001b[38;5;124;43m'\u001b[39;49m\u001b[43m)\u001b[49m\u001b[43m \u001b[49m\u001b[38;5;241;43m+\u001b[39;49m\u001b[43m \u001b[49m\u001b[38;5;124;43m'\u001b[39;49m\u001b[38;5;124;43mMicrosoft\u001b[39;49m\u001b[38;5;124;43m\\\u001b[39;49m\u001b[38;5;124;43mWindows\u001b[39;49m\u001b[38;5;124;43m\\\u001b[39;49m\u001b[38;5;124;43mStart Menu\u001b[39;49m\u001b[38;5;124;43m\\\u001b[39;49m\u001b[38;5;124;43mPrograms\u001b[39;49m\u001b[38;5;124;43m\\\u001b[39;49m\u001b[38;5;124;43mStartup\u001b[39;49m\u001b[38;5;124;43m'\u001b[39;49m\u001b[43m)\u001b[49m\n",
      "File \u001b[1;32mc:\\Users\\crypt\\AppData\\Local\\Programs\\Python\\Python312\\Lib\\subprocess.py:548\u001b[0m, in \u001b[0;36mrun\u001b[1;34m(input, capture_output, timeout, check, *popenargs, **kwargs)\u001b[0m\n\u001b[0;32m    545\u001b[0m     kwargs[\u001b[38;5;124m'\u001b[39m\u001b[38;5;124mstdout\u001b[39m\u001b[38;5;124m'\u001b[39m] \u001b[38;5;241m=\u001b[39m PIPE\n\u001b[0;32m    546\u001b[0m     kwargs[\u001b[38;5;124m'\u001b[39m\u001b[38;5;124mstderr\u001b[39m\u001b[38;5;124m'\u001b[39m] \u001b[38;5;241m=\u001b[39m PIPE\n\u001b[1;32m--> 548\u001b[0m \u001b[38;5;28;01mwith\u001b[39;00m \u001b[43mPopen\u001b[49m\u001b[43m(\u001b[49m\u001b[38;5;241;43m*\u001b[39;49m\u001b[43mpopenargs\u001b[49m\u001b[43m,\u001b[49m\u001b[43m \u001b[49m\u001b[38;5;241;43m*\u001b[39;49m\u001b[38;5;241;43m*\u001b[39;49m\u001b[43mkwargs\u001b[49m\u001b[43m)\u001b[49m \u001b[38;5;28;01mas\u001b[39;00m process:\n\u001b[0;32m    549\u001b[0m     \u001b[38;5;28;01mtry\u001b[39;00m:\n\u001b[0;32m    550\u001b[0m         stdout, stderr \u001b[38;5;241m=\u001b[39m process\u001b[38;5;241m.\u001b[39mcommunicate(\u001b[38;5;28minput\u001b[39m, timeout\u001b[38;5;241m=\u001b[39mtimeout)\n",
      "File \u001b[1;32mc:\\Users\\crypt\\AppData\\Local\\Programs\\Python\\Python312\\Lib\\subprocess.py:835\u001b[0m, in \u001b[0;36mPopen.__init__\u001b[1;34m(self, args, bufsize, executable, stdin, stdout, stderr, preexec_fn, close_fds, shell, cwd, env, universal_newlines, startupinfo, creationflags, restore_signals, start_new_session, pass_fds, user, group, extra_groups, encoding, errors, text, umask, pipesize, process_group)\u001b[0m\n\u001b[0;32m    833\u001b[0m     bufsize \u001b[38;5;241m=\u001b[39m \u001b[38;5;241m-\u001b[39m\u001b[38;5;241m1\u001b[39m  \u001b[38;5;66;03m# Restore default\u001b[39;00m\n\u001b[0;32m    834\u001b[0m \u001b[38;5;28;01mif\u001b[39;00m \u001b[38;5;129;01mnot\u001b[39;00m \u001b[38;5;28misinstance\u001b[39m(bufsize, \u001b[38;5;28mint\u001b[39m):\n\u001b[1;32m--> 835\u001b[0m     \u001b[38;5;28;01mraise\u001b[39;00m \u001b[38;5;167;01mTypeError\u001b[39;00m(\u001b[38;5;124m\"\u001b[39m\u001b[38;5;124mbufsize must be an integer\u001b[39m\u001b[38;5;124m\"\u001b[39m)\n\u001b[0;32m    837\u001b[0m \u001b[38;5;28;01mif\u001b[39;00m pipesize \u001b[38;5;129;01mis\u001b[39;00m \u001b[38;5;28;01mNone\u001b[39;00m:\n\u001b[0;32m    838\u001b[0m     pipesize \u001b[38;5;241m=\u001b[39m \u001b[38;5;241m-\u001b[39m\u001b[38;5;241m1\u001b[39m  \u001b[38;5;66;03m# Restore default\u001b[39;00m\n",
      "\u001b[1;31mTypeError\u001b[0m: bufsize must be an integer"
     ]
    }
   ],
   "source": [
    "subprocess.run('explorer', environ.get('APPDATA') + 'Microsoft\\Windows\\Start Menu\\Programs\\Startup')"
   ]
  }
 ],
 "metadata": {
  "kernelspec": {
   "display_name": "Python 3",
   "language": "python",
   "name": "python3"
  },
  "language_info": {
   "codemirror_mode": {
    "name": "ipython",
    "version": 3
   },
   "file_extension": ".py",
   "mimetype": "text/x-python",
   "name": "python",
   "nbconvert_exporter": "python",
   "pygments_lexer": "ipython3",
   "version": "3.12.3"
  }
 },
 "nbformat": 4,
 "nbformat_minor": 2
}
