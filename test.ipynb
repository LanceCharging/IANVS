{
 "cells": [
  {
   "cell_type": "code",
   "execution_count": 1,
   "metadata": {},
   "outputs": [],
   "source": [
    "import tkinter as tk\n",
    "from PIL import Image, ImageTk, ImageGrab\n",
    "import win32gui\n",
    "import win32con\n",
    "import os\n",
    "\n",
    "# 화면 캡처 수행\n",
    "screenshot = ImageGrab.grab()\n",
    "screenshot_path = os.path.join(os.getcwd(), \"screenshot2.png\")\n",
    "screenshot.save(screenshot_path)\n",
    "\n",
    "\n"
   ]
  },
  {
   "cell_type": "code",
   "execution_count": 2,
   "metadata": {},
   "outputs": [],
   "source": [
    "# Tkinter 윈도우 생성\n",
    "root = tk.Tk()\n",
    "root.attributes(\"-fullscreen\", True)  # 전체 화면 모드\n",
    "root.attributes(\"-topmost\", True)  # 항상 맨 위에\n",
    "\n",
    "# 캡처한 이미지 로드 및 라벨에 설정\n",
    "image = Image.open(screenshot_path)\n",
    "photo = ImageTk.PhotoImage(image)\n",
    "\n",
    "# Tkinter Label에 이미지 설정\n",
    "label = tk.Label(root, image=photo)\n",
    "label.image = photo  # 참조 유지\n",
    "label.pack()\n",
    "\n",
    "root.mainloop()\n"
   ]
  },
  {
   "cell_type": "code",
   "execution_count": null,
   "metadata": {},
   "outputs": [],
   "source": []
  },
  {
   "cell_type": "code",
   "execution_count": null,
   "metadata": {},
   "outputs": [],
   "source": []
  },
  {
   "cell_type": "code",
   "execution_count": null,
   "metadata": {},
   "outputs": [],
   "source": []
  },
  {
   "cell_type": "code",
   "execution_count": null,
   "metadata": {},
   "outputs": [],
   "source": []
  },
  {
   "cell_type": "code",
   "execution_count": null,
   "metadata": {},
   "outputs": [],
   "source": [
    "# Tkinter 윈도우 생성\n",
    "root = tk.Tk()\n",
    "root.attributes(\"-fullscreen\", True)  # 전체 화면 모드\n",
    "root.attributes(\"-topmost\", True)  # 항상 맨 위에\n",
    "\n",
    "# 캡처한 이미지 로드 및 라벨에 설정\n",
    "image = Image.open(screenshot_path)\n",
    "photo = ImageTk.PhotoImage(image)\n",
    "\n",
    "# Tkinter Label에 이미지 설정\n",
    "label = tk.Label(root, image=photo)\n",
    "label.image = photo  # 참조 유지\n",
    "label.pack()\n",
    "\n",
    "# 윈도우 제목 표시줄 제거\n",
    "def remove_title_bar():\n",
    "    hwnd = win32gui.GetParent(root.winfo_id())\n",
    "    style = win32gui.GetWindowLong(hwnd, win32con.GWL_STYLE)\n",
    "    style &= ~win32con.WS_CAPTION\n",
    "    win32gui.SetWindowLong(hwnd, win32con.GWL_STYLE, style)\n",
    "    win32gui.SetWindowPos(hwnd, None, 0, 0, 0, 0,\n",
    "                          win32con.SWP_NOMOVE | win32con.SWP_NOSIZE | win32con.SWP_NOZORDER | win32con.SWP_FRAMECHANGED)\n",
    "\n",
    "# 100ms 후에 제목 표시줄 제거\n",
    "root.after(100, remove_title_bar)\n",
    "\n",
    "# Tkinter 루프 시작\n",
    "root.mainloop()\n",
    "\n",
    "# 스크린샷 파일 삭제\n",
    "os.remove(screenshot_path)"
   ]
  },
  {
   "cell_type": "code",
   "execution_count": null,
   "metadata": {},
   "outputs": [],
   "source": []
  },
  {
   "cell_type": "code",
   "execution_count": null,
   "metadata": {},
   "outputs": [],
   "source": [
    "def 깜빡깜빡():\n",
    "    previous_styles = {}\n",
    "    import hide_show\n",
    "    hide_show.hide_all(previous_styles)\n",
    "    import time\n",
    "    time.sleep(1)\n",
    "    hide_show.show_all(previous_styles)"
   ]
  },
  {
   "cell_type": "code",
   "execution_count": null,
   "metadata": {},
   "outputs": [],
   "source": []
  },
  {
   "cell_type": "code",
   "execution_count": null,
   "metadata": {},
   "outputs": [],
   "source": []
  }
 ],
 "metadata": {
  "kernelspec": {
   "display_name": "Python 3",
   "language": "python",
   "name": "python3"
  },
  "language_info": {
   "codemirror_mode": {
    "name": "ipython",
    "version": 3
   },
   "file_extension": ".py",
   "mimetype": "text/x-python",
   "name": "python",
   "nbconvert_exporter": "python",
   "pygments_lexer": "ipython3",
   "version": "3.12.3"
  }
 },
 "nbformat": 4,
 "nbformat_minor": 2
}
