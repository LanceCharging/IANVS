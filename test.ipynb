{
 "cells": [
  {
   "cell_type": "code",
   "execution_count": 1,
   "metadata": {},
   "outputs": [],
   "source": [
    "import tkinter as tk\n",
    "from PIL import Image, ImageTk, ImageGrab\n",
    "import win32gui\n",
    "import win32con\n",
    "import os\n",
    "\n",
    "# 화면 캡처 수행\n",
    "screenshot = ImageGrab.grab()\n",
    "screenshot_path = os.path.join(os.getcwd(), \"screenshot2.png\")\n",
    "screenshot.save(screenshot_path)\n",
    "\n",
    "\n"
   ]
  },
  {
   "cell_type": "code",
   "execution_count": 2,
   "metadata": {},
   "outputs": [],
   "source": [
    "# Tkinter 윈도우 생성\n",
    "root = tk.Tk()\n",
    "root.attributes(\"-fullscreen\", True)  # 전체 화면 모드\n",
    "root.attributes(\"-topmost\", True)  # 항상 맨 위에\n",
    "\n",
    "# 캡처한 이미지 로드 및 라벨에 설정\n",
    "image = Image.open(screenshot_path)\n",
    "photo = ImageTk.PhotoImage(image)\n",
    "\n",
    "# Tkinter Label에 이미지 설정\n",
    "label = tk.Label(root, image=photo)\n",
    "label.image = photo  # 참조 유지\n",
    "label.pack()\n",
    "\n",
    "root.mainloop()\n"
   ]
  },
  {
   "cell_type": "code",
   "execution_count": null,
   "metadata": {},
   "outputs": [],
   "source": []
  },
  {
   "cell_type": "code",
   "execution_count": null,
   "metadata": {},
   "outputs": [],
   "source": []
  },
  {
   "cell_type": "code",
   "execution_count": null,
   "metadata": {},
   "outputs": [],
   "source": []
  },
  {
   "cell_type": "code",
   "execution_count": null,
   "metadata": {},
   "outputs": [],
   "source": []
  },
  {
   "cell_type": "code",
   "execution_count": null,
   "metadata": {},
   "outputs": [],
   "source": [
    "# Tkinter 윈도우 생성\n",
    "root = tk.Tk()\n",
    "root.attributes(\"-fullscreen\", True)  # 전체 화면 모드\n",
    "root.attributes(\"-topmost\", True)  # 항상 맨 위에\n",
    "\n",
    "# 캡처한 이미지 로드 및 라벨에 설정\n",
    "image = Image.open(screenshot_path)\n",
    "photo = ImageTk.PhotoImage(image)\n",
    "\n",
    "# Tkinter Label에 이미지 설정\n",
    "label = tk.Label(root, image=photo)\n",
    "label.image = photo  # 참조 유지\n",
    "label.pack()\n",
    "\n",
    "# 윈도우 제목 표시줄 제거\n",
    "def remove_title_bar():\n",
    "    hwnd = win32gui.GetParent(root.winfo_id())\n",
    "    style = win32gui.GetWindowLong(hwnd, win32con.GWL_STYLE)\n",
    "    style &= ~win32con.WS_CAPTION\n",
    "    win32gui.SetWindowLong(hwnd, win32con.GWL_STYLE, style)\n",
    "    win32gui.SetWindowPos(hwnd, None, 0, 0, 0, 0,\n",
    "                          win32con.SWP_NOMOVE | win32con.SWP_NOSIZE | win32con.SWP_NOZORDER | win32con.SWP_FRAMECHANGED)\n",
    "\n",
    "# 100ms 후에 제목 표시줄 제거\n",
    "root.after(100, remove_title_bar)\n",
    "\n",
    "# Tkinter 루프 시작\n",
    "root.mainloop()\n",
    "\n",
    "# 스크린샷 파일 삭제\n",
    "os.remove(screenshot_path)"
   ]
  },
  {
   "cell_type": "code",
   "execution_count": null,
   "metadata": {},
   "outputs": [],
   "source": []
  },
  {
   "cell_type": "code",
   "execution_count": null,
   "metadata": {},
   "outputs": [],
   "source": []
  },
  {
   "cell_type": "code",
   "execution_count": 2,
   "metadata": {},
   "outputs": [],
   "source": [
    "import tkinter as tk\n",
    "from tkinter import Tk, Label\n",
    "from PIL import Image, ImageTk, ImageGrab\n",
    "import win32gui\n",
    "import win32con\n",
    "\n",
    "import pygetwindow as gw\n",
    "\n",
    "import dotenv\n",
    "\n",
    "import os"
   ]
  },
  {
   "cell_type": "code",
   "execution_count": 1,
   "metadata": {},
   "outputs": [],
   "source": [
    "import win32gui\n",
    "import win32con\n",
    "\n",
    "\n",
    "def hide_from_taskbar(window_title):\n",
    "\n",
    "    \n",
    "    hwnd = win32gui.FindWindow(None, window_title)\n",
    "    \n",
    "    if hwnd != 0:\n",
    "\n",
    "        dotenv.set_key(env_path, 'previous_style_of' + str(win32gui.GetWindowLong(hwnd, win32con.GWL_EXSTYLE)))\n",
    "        dotenv.load_dotenv(env_path, override=True) \n",
    "        \n",
    "        style = win32gui.GetWindowLong(hwnd, win32con.GWL_EXSTYLE)\n",
    "\n",
    "\n",
    "\n",
    "        style |= win32con.WS_EX_TOOLWINDOW # 비트연산을 하는 이유 -> '스타일'의 이진수 각 비트마다 다른 속성을 가리킴. 가령, WS_EX_TOOLWINDOW가 참인 경우는 2^7인 128이 됨 -> 2진수 1000000 -> 고로, 각 비트는 독립적임\n",
    "\n",
    "        win32gui.SetWindowLong(hwnd, win32con.GWL_EXSTYLE, style)\n",
    "        win32gui.ShowWindow(hwnd, win32con.SW_HIDE) # 요게 WS_EX_TOOLWINDOW와 같이 쓰여야 하는 이유 -> 느낌이 좀 다르긴 한데 설정 적용 이후 F5(새로고침)하는 것과 비슷함 -- 껍데기를 숨기는 거라고 해야 하나..\n",
    "\n",
    "def show_in_taskbar(window_title):\n",
    "    \n",
    "    if window_title in previous_styles:\n",
    "        hwnd = win32gui.FindWindow(None, window_title)\n",
    "        win32gui.SetWindowLong(hwnd, win32con.GWL_EXSTYLE, previous_styles[window_title])\n",
    "        win32gui.ShowWindow(hwnd, win32con.SW_SHOW)\n",
    "\n",
    "        del previous_styles[window_title]"
   ]
  }
 ],
 "metadata": {
  "kernelspec": {
   "display_name": "Python 3",
   "language": "python",
   "name": "python3"
  },
  "language_info": {
   "codemirror_mode": {
    "name": "ipython",
    "version": 3
   },
   "file_extension": ".py",
   "mimetype": "text/x-python",
   "name": "python",
   "nbconvert_exporter": "python",
   "pygments_lexer": "ipython3",
   "version": "3.12.3"
  }
 },
 "nbformat": 4,
 "nbformat_minor": 2
}
